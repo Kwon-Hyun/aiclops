{
 "cells": [
  {
   "cell_type": "code",
   "execution_count": 3,
   "metadata": {},
   "outputs": [],
   "source": [
    "import cv2 as cv\n",
    "import numpy as np\n",
    "import matplotlib.pyplot as plt\n",
    "import seaborn as sns\n",
    "import random\n",
    "import pandas as pd\n",
    "import glob\n",
    "\n",
    "from sklearn.metrics import precision_score, recall_score"
   ]
  },
  {
   "cell_type": "code",
   "execution_count": 4,
   "metadata": {},
   "outputs": [],
   "source": [
    "# 이미지 경로 설정\n",
    "image_paths = glob.glob('output_folder/*.jpg')"
   ]
  },
  {
   "cell_type": "code",
   "execution_count": 12,
   "metadata": {},
   "outputs": [],
   "source": [
    "# 색상 공간 변환 및 특정 채널 조합 탐지 함수\n",
    "def extract_channels(image, color_space='HSV', use_channels='all'):\n",
    "    if color_space == 'HSV':\n",
    "        hsv_image = cv.cvtColor(image, cv.COLOR_BGR2HSV)\n",
    "        h, s, v = cv.split(hsv_image)\n",
    "        if use_channels == 'all': return h, s, v\n",
    "        elif use_channels == 'H': return h, None, None\n",
    "        elif use_channels == 'SV': return None, s, v\n",
    "    elif color_space == 'YUV':\n",
    "        yuv_image = cv.cvtColor(image, cv.COLOR_BGR2YUV)\n",
    "        y, u, v = cv.split(yuv_image)\n",
    "        if use_channels == 'all': return y, u, v\n",
    "        elif use_channels == 'UV': return None, u, v\n",
    "        elif use_channels == 'Y': return y, None, None\n",
    "    elif color_space == 'YCbCr':\n",
    "        ycbcr_image = cv.cvtColor(image, cv.COLOR_BGR2YCrCb)\n",
    "        y, cb, cr = cv.split(ycbcr_image)\n",
    "        if use_channels == 'all': return y, cb, cr\n",
    "        elif use_channels == 'CbCr': return None, cb, cr\n",
    "        elif use_channels == 'Y': return y, None, None\n",
    "    else:\n",
    "        raise ValueError(\"Invalid color space or channels selection.\")"
   ]
  },
  {
   "cell_type": "code",
   "execution_count": 13,
   "metadata": {},
   "outputs": [],
   "source": [
    "# 보라색 원 탐지 함수\n",
    "def detect_purple_mask(image, color_space='HSV', use_channels='all'):\n",
    "    if color_space == 'HSV' and use_channels == 'SV':\n",
    "        _, s, v = extract_channels(image, 'HSV', 'SV')\n",
    "        merged_channels = [ch for ch in [s, v] if ch is not None]\n",
    "        lower_purple, upper_purple = (50, 50), (255, 255)\n",
    "        mask = cv.inRange(cv.merge(merged_channels), lower_purple, upper_purple)\n",
    "\n",
    "    elif color_space == 'YUV' and use_channels == 'UV':\n",
    "        _, u, v = extract_channels(image, 'YUV', 'UV')\n",
    "        merged_channels = [ch for ch in [u, v] if ch is not None]\n",
    "        lower_purple, upper_purple = (100, 120), (200, 140)\n",
    "        mask = cv.inRange(cv.merge(merged_channels), lower_purple, upper_purple)\n",
    "        \n",
    "    elif color_space == 'YCbCr' and use_channels == 'CbCr':\n",
    "        _, cb, cr = extract_channels(image, 'YCbCr', 'CbCr')\n",
    "        merged_channels = [ch for ch in [cb, cr] if ch is not None]\n",
    "        lower_purple, upper_purple = (100, 120), (200, 140)\n",
    "        mask = cv.inRange(cv.merge(merged_channels), lower_purple, upper_purple)\n",
    "\n",
    "    else:\n",
    "        raise ValueError(\"Invalid color space or channel combination.\")\n",
    "    \n",
    "    result = cv.bitwise_and(image, image, mask=mask)\n",
    "    return mask, result"
   ]
  },
  {
   "cell_type": "code",
   "execution_count": 14,
   "metadata": {},
   "outputs": [],
   "source": [
    "# 시각화 및 탐지 성능 비교\n",
    "def visualize_and_compare(image_paths):\n",
    "    results = []\n",
    "    color_spaces = [('HSV', 'all'), ('HSV', 'SV'), ('YUV', 'UV'), ('YUV', 'Y'), ('YCbCr', 'CbCr')]\n",
    "    \n",
    "    for image_path in image_paths:\n",
    "        img = cv.imread(image_path)\n",
    "        \n",
    "        for color_space, use_channels in color_spaces:\n",
    "            mask, result = detect_purple_mask(img, color_space=color_space, use_channels=use_channels)\n",
    "            purple_pixels = np.sum(mask > 0)  # 탐지된 보라색 픽셀 개수\n",
    "\n",
    "            # 결과 저장\n",
    "            results.append({\n",
    "                'Image': image_path,\n",
    "                'Color Space': color_space,\n",
    "                'Channel': use_channels,\n",
    "                'Detected Pixels': purple_pixels\n",
    "            })\n",
    "            \n",
    "            # 각 조합별 결과 시각화\n",
    "            plt.figure(figsize=(8, 4))\n",
    "            plt.subplot(1, 2, 1)\n",
    "            plt.imshow(mask, cmap='gray')\n",
    "            plt.title(f\"{color_space}-{use_channels} Mask\")\n",
    "            plt.axis('off')\n",
    "            \n",
    "            plt.subplot(1, 2, 2)\n",
    "            plt.imshow(cv.cvtColor(result, cv.COLOR_BGR2RGB))\n",
    "            plt.title(f\"{color_space}-{use_channels} Result\")\n",
    "            plt.axis('off')\n",
    "            plt.show()\n",
    "    \n",
    "    # 결과 비교 분석\n",
    "    results_df = pd.DataFrame(results)\n",
    "    sns.boxplot(x='Color Space', y='Detected Pixels', hue='Channel', data=results_df)\n",
    "    plt.title('Purple 색상 범위 구하기 (by pixel color/channel)')\n",
    "    plt.show()\n",
    "\n",
    "    return results_df"
   ]
  },
  {
   "cell_type": "code",
   "execution_count": 15,
   "metadata": {},
   "outputs": [
    {
     "ename": "ValueError",
     "evalue": "Invalid color space or channel combination.",
     "output_type": "error",
     "traceback": [
      "\u001b[0;31m---------------------------------------------------------------------------\u001b[0m",
      "\u001b[0;31mValueError\u001b[0m                                Traceback (most recent call last)",
      "Cell \u001b[0;32mIn[15], line 28\u001b[0m\n\u001b[1;32m     25\u001b[0m \u001b[38;5;66;03m# 테스트\u001b[39;00m\n\u001b[1;32m     26\u001b[0m \u001b[38;5;66;03m# 랜덤으로 5개 이미지 선택하여 성능 분석\u001b[39;00m\n\u001b[1;32m     27\u001b[0m random_image_paths \u001b[38;5;241m=\u001b[39m random\u001b[38;5;241m.\u001b[39msample(image_paths, \u001b[38;5;241m5\u001b[39m)\n\u001b[0;32m---> 28\u001b[0m results_df \u001b[38;5;241m=\u001b[39m \u001b[43mvisualize_and_compare\u001b[49m\u001b[43m(\u001b[49m\u001b[43mrandom_image_paths\u001b[49m\u001b[43m)\u001b[49m\n\u001b[1;32m     30\u001b[0m \u001b[38;5;66;03m# 테스트 이미지에 가장 좋은 조합 적용\u001b[39;00m\n\u001b[1;32m     31\u001b[0m test_images \u001b[38;5;241m=\u001b[39m [\u001b[38;5;124m'\u001b[39m\u001b[38;5;124mtest_image1.jpg\u001b[39m\u001b[38;5;124m'\u001b[39m, \u001b[38;5;124m'\u001b[39m\u001b[38;5;124mtest_image2.jpg\u001b[39m\u001b[38;5;124m'\u001b[39m]  \u001b[38;5;66;03m# 테스트 이미지 경로 예시\u001b[39;00m\n",
      "Cell \u001b[0;32mIn[14], line 10\u001b[0m, in \u001b[0;36mvisualize_and_compare\u001b[0;34m(image_paths)\u001b[0m\n\u001b[1;32m      7\u001b[0m img \u001b[38;5;241m=\u001b[39m cv\u001b[38;5;241m.\u001b[39mimread(image_path)\n\u001b[1;32m      9\u001b[0m \u001b[38;5;28;01mfor\u001b[39;00m color_space, use_channels \u001b[38;5;129;01min\u001b[39;00m color_spaces:\n\u001b[0;32m---> 10\u001b[0m     mask, result \u001b[38;5;241m=\u001b[39m \u001b[43mdetect_purple_mask\u001b[49m\u001b[43m(\u001b[49m\u001b[43mimg\u001b[49m\u001b[43m,\u001b[49m\u001b[43m \u001b[49m\u001b[43mcolor_space\u001b[49m\u001b[38;5;241;43m=\u001b[39;49m\u001b[43mcolor_space\u001b[49m\u001b[43m,\u001b[49m\u001b[43m \u001b[49m\u001b[43muse_channels\u001b[49m\u001b[38;5;241;43m=\u001b[39;49m\u001b[43muse_channels\u001b[49m\u001b[43m)\u001b[49m\n\u001b[1;32m     11\u001b[0m     purple_pixels \u001b[38;5;241m=\u001b[39m np\u001b[38;5;241m.\u001b[39msum(mask \u001b[38;5;241m>\u001b[39m \u001b[38;5;241m0\u001b[39m)  \u001b[38;5;66;03m# 탐지된 보라색 픽셀 개수\u001b[39;00m\n\u001b[1;32m     13\u001b[0m     \u001b[38;5;66;03m# 결과 저장\u001b[39;00m\n",
      "Cell \u001b[0;32mIn[13], line 22\u001b[0m, in \u001b[0;36mdetect_purple_mask\u001b[0;34m(image, color_space, use_channels)\u001b[0m\n\u001b[1;32m     19\u001b[0m     mask \u001b[38;5;241m=\u001b[39m cv\u001b[38;5;241m.\u001b[39minRange(cv\u001b[38;5;241m.\u001b[39mmerge(merged_channels), lower_purple, upper_purple)\n\u001b[1;32m     21\u001b[0m \u001b[38;5;28;01melse\u001b[39;00m:\n\u001b[0;32m---> 22\u001b[0m     \u001b[38;5;28;01mraise\u001b[39;00m \u001b[38;5;167;01mValueError\u001b[39;00m(\u001b[38;5;124m\"\u001b[39m\u001b[38;5;124mInvalid color space or channel combination.\u001b[39m\u001b[38;5;124m\"\u001b[39m)\n\u001b[1;32m     24\u001b[0m result \u001b[38;5;241m=\u001b[39m cv\u001b[38;5;241m.\u001b[39mbitwise_and(image, image, mask\u001b[38;5;241m=\u001b[39mmask)\n\u001b[1;32m     25\u001b[0m \u001b[38;5;28;01mreturn\u001b[39;00m mask, result\n",
      "\u001b[0;31mValueError\u001b[0m: Invalid color space or channel combination."
     ]
    }
   ],
   "source": [
    "# 탐지 결과를 바탕으로 가장 성능이 좋은 조합을 찾고 테스트 이미지에 적용\n",
    "def apply_best_combination(results_df, test_images):\n",
    "    best_combination = results_df.groupby(['Color', 'Channel'])['Detected Pixels'].mean().idxmax()\n",
    "    color_space, use_channels = best_combination\n",
    "    \n",
    "    print(f\"최적의 색상값 : {color_space}-{use_channels}\")\n",
    "    \n",
    "    for test_image_path in test_images:\n",
    "        test_img = cv.imread(test_image_path)\n",
    "        mask, result = detect_purple_mask(test_img, color_space=color_space, use_channels=use_channels)\n",
    "        \n",
    "        # 테스트 이미지 결과 시각화\n",
    "        plt.figure(figsize=(8, 4))\n",
    "        plt.subplot(1, 2, 1)\n",
    "        plt.imshow(mask, cmap='gray')\n",
    "        plt.title(f\"최적의 색상값 ({color_space}-{use_channels})\")\n",
    "        plt.axis('off')\n",
    "        \n",
    "        plt.subplot(1, 2, 2)\n",
    "        plt.imshow(cv.cvtColor(result, cv.COLOR_BGR2RGB))\n",
    "        plt.title(f\"최적의 색상값 ({color_space}-{use_channels})\")\n",
    "        plt.axis('off')\n",
    "        plt.show()\n",
    "\n",
    "# 테스트\n",
    "# 랜덤으로 5개 이미지 선택하여 성능 분석\n",
    "random_image_paths = random.sample(image_paths, 5)\n",
    "results_df = visualize_and_compare(random_image_paths)\n",
    "\n",
    "# 테스트 이미지에 가장 좋은 조합 적용\n",
    "test_images = ['test_image1.jpg', 'test_image2.jpg']  # 테스트 이미지 경로 예시\n",
    "apply_best_combination(results_df, test_images)"
   ]
  },
  {
   "cell_type": "code",
   "execution_count": null,
   "metadata": {},
   "outputs": [],
   "source": []
  }
 ],
 "metadata": {
  "kernelspec": {
   "display_name": "aiclops",
   "language": "python",
   "name": "python3"
  },
  "language_info": {
   "codemirror_mode": {
    "name": "ipython",
    "version": 3
   },
   "file_extension": ".py",
   "mimetype": "text/x-python",
   "name": "python",
   "nbconvert_exporter": "python",
   "pygments_lexer": "ipython3",
   "version": "3.9.20"
  }
 },
 "nbformat": 4,
 "nbformat_minor": 2
}
