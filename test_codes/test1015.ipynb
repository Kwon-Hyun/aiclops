{
 "cells": [
  {
   "cell_type": "markdown",
   "metadata": {},
   "source": [
    "### 1. Augmentation된 보라색 원 이미지 데이터를 학습하여 최적의 threshold 값 추출"
   ]
  },
  {
   "cell_type": "code",
   "execution_count": 3,
   "metadata": {},
   "outputs": [],
   "source": [
    "import cv2 as cv\n",
    "import numpy as np\n",
    "from sklearn.cluster import KMeans\n",
    "import glob\n",
    "import os"
   ]
  },
  {
   "cell_type": "code",
   "execution_count": 9,
   "metadata": {},
   "outputs": [],
   "source": [
    "# 보라색 원이 포함된 augmentation된 이미지들 경로 설정\n",
    "img_folder = 'output_folder/*.jpg'\n",
    "img_paths = glob.glob(img_folder)"
   ]
  },
  {
   "cell_type": "code",
   "execution_count": 10,
   "metadata": {},
   "outputs": [],
   "source": [
    "# 이미지 전처리 함수\n",
    "def process_image(img_path):\n",
    "    # 이미지 로드 및 흑백 변환 (명도값 활용 예정)\n",
    "    img = cv.imread(img_path)\n",
    "    img_gray = cv.cvtColor(img, cv.COLOR_BGR2GRAY)\n",
    "\n",
    "    # 이미지를 RGB 3차원에서 1차원 배열로 변환\n",
    "    pixel_values = img_gray.reshape((-1, 1))\n",
    "    pixel_values = np.float32(pixel_values)\n",
    "\n",
    "    return pixel_values, img.shape"
   ]
  },
  {
   "cell_type": "code",
   "execution_count": 11,
   "metadata": {},
   "outputs": [],
   "source": [
    "# 모든 이미지에서 pixel data 수집해서 K-means 학습용 dataset 생성\n",
    "def create_training_data(img_paths):\n",
    "    training_data = []\n",
    "\n",
    "    for img_path in img_paths:\n",
    "        pixel_values, _ = process_image(img_path)\n",
    "        training_data.append(pixel_values)\n",
    "    \n",
    "    # 데이터를 하나로 합치기!!\n",
    "    training_data = np.vstack(training_data)\n",
    "\n",
    "    return training_data"
   ]
  },
  {
   "cell_type": "code",
   "execution_count": 12,
   "metadata": {},
   "outputs": [],
   "source": [
    "training_data = create_training_data(img_paths)"
   ]
  },
  {
   "cell_type": "code",
   "execution_count": 13,
   "metadata": {},
   "outputs": [],
   "source": [
    "# K-means clustring을 통한 임계값 추출\n",
    "def kmeans_threshold(training_data, n_clusters=2):\n",
    "    kmeans = KMeans(n_clusters=n_clusters, random_state=42)\n",
    "\n",
    "    kmeans.fit(training_data)\n",
    "\n",
    "    # 각 클러스터의 중심값 게산\n",
    "    centers = kmeans.cluster_centers_\n",
    "\n",
    "    # 중심값 중 더 높은 값은 threshold로 사용\n",
    "    # 보라색 pixel 값들을 대표하는 거임!!\n",
    "    threshold = max(centers)\n",
    "    print(f\"추출된 최적의 threshold 값 : {threshold[0]}\")\n",
    "\n",
    "    return threshold[0]"
   ]
  },
  {
   "cell_type": "code",
   "execution_count": 14,
   "metadata": {},
   "outputs": [],
   "source": [
    "threshold = kmeans_threshold(training_data)"
   ]
  },
  {
   "cell_type": "code",
   "execution_count": null,
   "metadata": {},
   "outputs": [],
   "source": []
  }
 ],
 "metadata": {
  "kernelspec": {
   "display_name": "base",
   "language": "python",
   "name": "python3"
  },
  "language_info": {
   "codemirror_mode": {
    "name": "ipython",
    "version": 3
   },
   "file_extension": ".py",
   "mimetype": "text/x-python",
   "name": "python",
   "nbconvert_exporter": "python",
   "pygments_lexer": "ipython3",
   "version": "3.9.7"
  }
 },
 "nbformat": 4,
 "nbformat_minor": 2
}
