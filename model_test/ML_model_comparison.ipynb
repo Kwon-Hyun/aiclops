{
 "cells": [
  {
   "cell_type": "markdown",
   "metadata": {},
   "source": [
    "### 0. Setting"
   ]
  },
  {
   "cell_type": "code",
   "execution_count": 1,
   "metadata": {},
   "outputs": [],
   "source": [
    "import cv2 as cv\n",
    "import numpy as np\n",
    "import glob\n",
    "import matplotlib.pyplot as plt\n",
    "import seaborn as sns\n",
    "import random"
   ]
  },
  {
   "cell_type": "markdown",
   "metadata": {},
   "source": [
    "### 1. Augmentation"
   ]
  },
  {
   "cell_type": "code",
   "execution_count": 2,
   "metadata": {},
   "outputs": [],
   "source": [
    "# 보라색 원이 포함된 augmentation된 이미지들의 경로 설정\n",
    "image_folder = 'output_folder/*.jpg'\n",
    "image_paths = glob.glob(image_folder)"
   ]
  },
  {
   "cell_type": "markdown",
   "metadata": {},
   "source": [
    "### 2. Image Preprocessing"
   ]
  },
  {
   "cell_type": "code",
   "execution_count": 11,
   "metadata": {},
   "outputs": [],
   "source": [
    "# 1. 이미지를 흑백으로 전환\n",
    "def convert_to_grayscale(image):\n",
    "    img_gray = cv.cvtColor(image, cv.COLOR_BGR2GRAY)\n",
    "\n",
    "    # 확인용 : 흑백 이미지 출력\n",
    "    print(\"1단계 : 흑백 변환\")\n",
    "    cv.imshow('Grayscale Image', img_gray)\n",
    "\n",
    "    return img_gray"
   ]
  },
  {
   "cell_type": "code",
   "execution_count": 17,
   "metadata": {},
   "outputs": [],
   "source": [
    "# 2. 흑백 이미지에서 보라색 원으로 탐지된 부분의 명도 추출\n",
    "def extract_brightness(image):\n",
    "    img_hsv = cv.cvtColor(image, cv.COLOR_BGR2HSV)\n",
    "\n",
    "    # 보라색 범위로 mask 생성 (기존에 구했던 purple HSV 값 사용)\n",
    "    lower_purple = np.array([125, 50, 50])\n",
    "    upper_purple = np.array([150, 255, 255])\n",
    "    purple_mask = cv.inRange(img_hsv, lower_purple, upper_purple)\n",
    "\n",
    "    # 확인용 : 보라색 mask img 출력\n",
    "    print(\"2-1단계 : 보라색 mask\")\n",
    "    cv.imshow('Purple Mask', purple_mask)\n",
    "\n",
    "    # 흑백 전환 후, 마스크가 적용된 부분의 명도 값만 추출\n",
    "    img_gray = convert_to_grayscale(image)\n",
    "    brightness_values = img_gray[purple_mask > 0]\n",
    "\n",
    "    # mask 적용된 흑백 img 출력\n",
    "    img_masked_brightness = np.zeros_like(img_gray)\n",
    "    img_masked_brightness[purple_mask > 0] = img_gray[purple_mask > 0]\n",
    "\n",
    "    print(\"2-2단계 : 보라색 영역의 명도 값\")\n",
    "    cv.imshow('Purple Brightness', img_masked_brightness)\n",
    "\n",
    "    return brightness_values"
   ]
  },
  {
   "cell_type": "markdown",
   "metadata": {},
   "source": [
    "### 3. Brightness range"
   ]
  },
  {
   "cell_type": "code",
   "execution_count": 18,
   "metadata": {},
   "outputs": [],
   "source": [
    "# 3. 각 이미지에서 명도 값 추출 후 공통 명도 범위 계산\n",
    "def calculate_common_brightness_range(image_paths):\n",
    "    all_brightness_values = []\n",
    "\n",
    "    for image_path in image_paths:\n",
    "        img = cv.imread(image_path)\n",
    "        brightness_values = extract_brightness(img)\n",
    "        all_brightness_values.extend(brightness_values)  # 모든 이미지에서 명도 값을 합침\n",
    "\n",
    "    # 공통 명도 범위 (일반적으로 최댓값과 최솟값으로 범위 설정)\n",
    "    min_brightness = np.min(all_brightness_values)\n",
    "    max_brightness = np.max(all_brightness_values)\n",
    "    common_brightness_range = (min_brightness, max_brightness)\n",
    "\n",
    "    print(f\"3단계-공통 명도 범위 : {common_brightness_range}\")\n",
    "\n",
    "    return common_brightness_range"
   ]
  },
  {
   "cell_type": "markdown",
   "metadata": {},
   "source": [
    "### 4. Brightness to HSV"
   ]
  },
  {
   "cell_type": "code",
   "execution_count": 19,
   "metadata": {},
   "outputs": [],
   "source": [
    "# 4. 명도를 보라색 색상 범위로 변환\n",
    "def brightness_to_purple_hue(common_brightness_range):\n",
    "    min_brightness, max_brightness = common_brightness_range\n",
    "\n",
    "    # 명도 값을 보라색 hue 범위로 변환 (대략적으로^^;;)\n",
    "    hue_min = 125 + (min_brightness / 255) * 25  # 보라색 hue 범위는 125~150\n",
    "    hue_max = 125 + (max_brightness / 255) * 25\n",
    "\n",
    "    purple_hue_range = (hue_min, hue_max)\n",
    "    print(f\"4단계-보라색 색상 범위 (Hue): {purple_hue_range}\")\n",
    "\n",
    "    return purple_hue_range"
   ]
  },
  {
   "cell_type": "markdown",
   "metadata": {},
   "source": [
    "### 5. Visualization"
   ]
  },
  {
   "cell_type": "code",
   "execution_count": 20,
   "metadata": {},
   "outputs": [],
   "source": [
    "# 5. Hue 값 시각화 (보라색 색조 범위)\n",
    "def visualize_hue_distribution(purple_hue_range):\n",
    "    plt.figure(figsize=(8, 6))\n",
    "    sns.kdeplot(np.linspace(purple_hue_range[0], purple_hue_range[1], 100), color='purple', fill=True)\n",
    "    plt.title('5단계 : Purple Hue Distribution')\n",
    "    plt.xlabel('Hue Value')\n",
    "    plt.ylabel('Density')\n",
    "    plt.show()"
   ]
  },
  {
   "cell_type": "code",
   "execution_count": 21,
   "metadata": {},
   "outputs": [
    {
     "name": "stdout",
     "output_type": "stream",
     "text": [
      "2-1단계 : 보라색 mask\n",
      "1단계 : 흑백 변환\n",
      "2-2단계 : 보라색 영역의 명도 값\n",
      "2-1단계 : 보라색 mask\n",
      "1단계 : 흑백 변환\n",
      "2-2단계 : 보라색 영역의 명도 값\n",
      "2-1단계 : 보라색 mask\n",
      "1단계 : 흑백 변환\n",
      "2-2단계 : 보라색 영역의 명도 값\n",
      "2-1단계 : 보라색 mask\n",
      "1단계 : 흑백 변환\n",
      "2-2단계 : 보라색 영역의 명도 값\n",
      "2-1단계 : 보라색 mask\n",
      "1단계 : 흑백 변환\n",
      "2-2단계 : 보라색 영역의 명도 값\n",
      "2-1단계 : 보라색 mask\n",
      "1단계 : 흑백 변환\n",
      "2-2단계 : 보라색 영역의 명도 값\n",
      "2-1단계 : 보라색 mask\n",
      "1단계 : 흑백 변환\n",
      "2-2단계 : 보라색 영역의 명도 값\n",
      "2-1단계 : 보라색 mask\n",
      "1단계 : 흑백 변환\n",
      "2-2단계 : 보라색 영역의 명도 값\n",
      "2-1단계 : 보라색 mask\n",
      "1단계 : 흑백 변환\n",
      "2-2단계 : 보라색 영역의 명도 값\n",
      "2-1단계 : 보라색 mask\n",
      "1단계 : 흑백 변환\n",
      "2-2단계 : 보라색 영역의 명도 값\n",
      "2-1단계 : 보라색 mask\n",
      "1단계 : 흑백 변환\n",
      "2-2단계 : 보라색 영역의 명도 값\n",
      "2-1단계 : 보라색 mask\n",
      "1단계 : 흑백 변환\n",
      "2-2단계 : 보라색 영역의 명도 값\n",
      "2-1단계 : 보라색 mask\n",
      "1단계 : 흑백 변환\n",
      "2-2단계 : 보라색 영역의 명도 값\n",
      "2-1단계 : 보라색 mask\n",
      "1단계 : 흑백 변환\n",
      "2-2단계 : 보라색 영역의 명도 값\n",
      "2-1단계 : 보라색 mask\n",
      "1단계 : 흑백 변환\n",
      "2-2단계 : 보라색 영역의 명도 값\n",
      "2-1단계 : 보라색 mask\n",
      "1단계 : 흑백 변환\n",
      "2-2단계 : 보라색 영역의 명도 값\n",
      "2-1단계 : 보라색 mask\n",
      "1단계 : 흑백 변환\n",
      "2-2단계 : 보라색 영역의 명도 값\n",
      "2-1단계 : 보라색 mask\n",
      "1단계 : 흑백 변환\n",
      "2-2단계 : 보라색 영역의 명도 값\n",
      "2-1단계 : 보라색 mask\n",
      "1단계 : 흑백 변환\n",
      "2-2단계 : 보라색 영역의 명도 값\n",
      "2-1단계 : 보라색 mask\n",
      "1단계 : 흑백 변환\n",
      "2-2단계 : 보라색 영역의 명도 값\n",
      "3단계-공통 명도 범위 : (np.uint8(8), np.uint8(226))\n",
      "4단계-보라색 색상 범위 (Hue): (np.float64(125.7843137254902), np.float64(147.15686274509804))\n"
     ]
    },
    {
     "name": "stderr",
     "output_type": "stream",
     "text": [
      "/Users/hyunowk/opt/anaconda3/envs/aiclops/lib/python3.9/site-packages/IPython/core/pylabtools.py:152: UserWarning: Glyph 45800 (\\N{HANGUL SYLLABLE DAN}) missing from font(s) DejaVu Sans.\n",
      "  fig.canvas.print_figure(bytes_io, **kw)\n",
      "/Users/hyunowk/opt/anaconda3/envs/aiclops/lib/python3.9/site-packages/IPython/core/pylabtools.py:152: UserWarning: Glyph 44228 (\\N{HANGUL SYLLABLE GYE}) missing from font(s) DejaVu Sans.\n",
      "  fig.canvas.print_figure(bytes_io, **kw)\n"
     ]
    },
    {
     "data": {
      "image/png": "[encoded data removed]",
      "text/plain": [
       "<Figure size 800x600 with 1 Axes>"
      ]
     },
     "metadata": {},
     "output_type": "display_data"
    }
   ],
   "source": [
    "# 랜덤하게 20개의 이미지 선택\n",
    "random_image_paths = random.sample(image_paths, 20)\n",
    "\n",
    "# 공통 명도 범위 계산\n",
    "common_brightness_range = calculate_common_brightness_range(random_image_paths)\n",
    "\n",
    "# 공통 명도 범위를 보라색 hue 범위로 변환\n",
    "purple_hue_range = brightness_to_purple_hue(common_brightness_range)\n",
    "\n",
    "# 보라색 hue 분포 시각화\n",
    "visualize_hue_distribution(purple_hue_range)"
   ]
  },
  {
   "cell_type": "markdown",
   "metadata": {},
   "source": [
    "### 6. Model Simple Comparison"
   ]
  },
  {
   "cell_type": "code",
   "execution_count": 1,
   "metadata": {},
   "outputs": [
    {
     "ename": "NameError",
     "evalue": "name 'training_data' is not defined",
     "output_type": "error",
     "traceback": [
      "\u001b[0;31m---------------------------------------------------------------------------\u001b[0m",
      "\u001b[0;31mNameError\u001b[0m                                 Traceback (most recent call last)",
      "Cell \u001b[0;32mIn[1], line 35\u001b[0m\n\u001b[1;32m     32\u001b[0m     plt\u001b[38;5;241m.\u001b[39mshow()\n\u001b[1;32m     34\u001b[0m \u001b[38;5;66;03m# Run the optimal clusters search on the training data\u001b[39;00m\n\u001b[0;32m---> 35\u001b[0m find_optimal_clusters(\u001b[43mtraining_data\u001b[49m, max_k\u001b[38;5;241m=\u001b[39m\u001b[38;5;241m10\u001b[39m)\n",
      "\u001b[0;31mNameError\u001b[0m: name 'training_data' is not defined"
     ]
    }
   ],
   "source": [
    "\n",
    "# Step 1: Determine optimal K using Elbow Method and Silhouette Score\n",
    "\n",
    "from sklearn.cluster import KMeans\n",
    "from sklearn.metrics import silhouette_score\n",
    "import matplotlib.pyplot as plt\n",
    "\n",
    "def find_optimal_clusters(data, max_k=10):\n",
    "    distortions = []\n",
    "    silhouette_scores = []\n",
    "    for k in range(2, max_k + 1):\n",
    "        kmeans = KMeans(n_clusters=k, init='k-means++', random_state=42)\n",
    "        kmeans.fit(data)\n",
    "        distortions.append(kmeans.inertia_)\n",
    "        silhouette_scores.append(silhouette_score(data, kmeans.labels_))\n",
    "\n",
    "    # Elbow plot\n",
    "    plt.figure(figsize=(8, 4))\n",
    "    plt.plot(range(2, max_k + 1), distortions, marker='o')\n",
    "    plt.title('Elbow Method for Optimal K')\n",
    "    plt.xlabel('Number of Clusters (K)')\n",
    "    plt.ylabel('Distortion')\n",
    "    plt.grid(True)\n",
    "    plt.show()\n",
    "\n",
    "    # Silhouette score plot\n",
    "    plt.figure(figsize=(8, 4))\n",
    "    plt.plot(range(2, max_k + 1), silhouette_scores, marker='o', color='purple')\n",
    "    plt.title('Silhouette Score for Optimal K')\n",
    "    plt.xlabel('Number of Clusters (K)')\n",
    "    plt.ylabel('Silhouette Score')\n",
    "    plt.grid(True)\n",
    "    plt.show()\n",
    "\n",
    "# Run the optimal clusters search on the training data\n",
    "find_optimal_clusters(training_data, max_k=10)\n"
   ]
  },
  {
   "cell_type": "code",
   "execution_count": null,
   "metadata": {},
   "outputs": [],
   "source": []
  }
 ],
 "metadata": {
  "kernelspec": {
   "display_name": "DL_project1",
   "language": "python",
   "name": "python3"
  },
  "language_info": {
   "codemirror_mode": {
    "name": "ipython",
    "version": 3
   },
   "file_extension": ".py",
   "mimetype": "text/x-python",
   "name": "python",
   "nbconvert_exporter": "python",
   "pygments_lexer": "ipython3",
   "version": "3.9.20"
  }
 },
 "nbformat": 4,
 "nbformat_minor": 2
}
